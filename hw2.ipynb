{
 "cells": [
  {
   "cell_type": "markdown",
   "metadata": {},
   "source": [
    "## CSE 158 HW 2\n",
    "### Christina Leung, A15468909"
   ]
  },
  {
   "cell_type": "code",
   "execution_count": 1,
   "metadata": {},
   "outputs": [],
   "source": [
    "import numpy          # linear algebra\n",
    "import scipy.optimize # optimization routines\n",
    "import random         # random number generation\n",
    "import os\n",
    "import networkx as nx\n",
    "from collections import defaultdict\n",
    "import matplotlib.pyplot as plt\n",
    "from sklearn import linear_model"
   ]
  },
  {
   "cell_type": "code",
   "execution_count": 2,
   "metadata": {},
   "outputs": [],
   "source": [
    "def parseData(fname): # Parse beer data\n",
    "  for l in open(fname):\n",
    "    yield eval(l)\n",
    "data = list(parseData(\"beer_50000.json\"))"
   ]
  },
  {
   "cell_type": "code",
   "execution_count": 3,
   "metadata": {},
   "outputs": [],
   "source": [
    "numpy.random.shuffle(data) # Shuffle and split into sets\n",
    "l = len(data) // 2\n",
    "training = data[0:l]\n",
    "testing = data[l:]"
   ]
  },
  {
   "cell_type": "code",
   "execution_count": 4,
   "metadata": {},
   "outputs": [
    {
     "name": "stdout",
     "output_type": "stream",
     "text": [
      "0.84856\n",
      "0.14345467731122624\n"
     ]
    }
   ],
   "source": [
    "# QUESTION ONE\n",
    "categoryCounts = defaultdict(int) # Count beer styles\n",
    "for d in data:\n",
    "    categoryCounts[d['beer/style']] += 1\n",
    "categories = [c for c in categoryCounts if categoryCounts[c] > 1000]\n",
    "catID = dict(zip(list(categories),range(len(categories))))\n",
    "\n",
    "def feature(datum): # One hot encoding\n",
    "  feat = [0] * 13\n",
    "  if datum['beer/style'] in categories:\n",
    "        feat[catID[datum['beer/style']]] = 1\n",
    "  return [1] + feat\n",
    "\n",
    "X_train = [feature(d) for d in training] # Create training and testing sets\n",
    "y_train = [d['beer/ABV'] > 7.0 for d in training]\n",
    "xtest = [feature(d) for d in testing]\n",
    "ytest = [d['beer/ABV'] > 7.0 for d in testing]\n",
    "\n",
    "mod = linear_model.LogisticRegression(C=10.0, class_weight='balanced') # Fit classifier\n",
    "mod.fit(X_train, y_train)\n",
    "pred = mod.predict(xtest)\n",
    "\n",
    "TP_ = numpy.logical_and(pred, ytest) # Calculate accuracy\n",
    "FP_ = numpy.logical_and(pred, numpy.logical_not(ytest))\n",
    "TN_ = numpy.logical_and(numpy.logical_not(pred), numpy.logical_not(ytest))\n",
    "FN_ = numpy.logical_and(numpy.logical_not(pred), ytest)\n",
    "TP = sum(TP_)\n",
    "FP = sum(FP_)\n",
    "TN = sum(TN_)\n",
    "FN = sum(FN_)\n",
    "\n",
    "print((TP + TN) / len(testing))\n",
    "print(((FP/(TP + FN)) + (FN/(TN + FP)))/2)"
   ]
  },
  {
   "cell_type": "markdown",
   "metadata": {},
   "source": [
    "## Question 1\n",
    "accuracy = 0.84716<br>\n",
    "BER = 0.14438417314433188"
   ]
  },
  {
   "cell_type": "code",
   "execution_count": 5,
   "metadata": {},
   "outputs": [
    {
     "name": "stdout",
     "output_type": "stream",
     "text": [
      "0.8624\n",
      "0.13439861805984435\n"
     ]
    }
   ],
   "source": [
    "# QUESTION TWO\n",
    "lens = [] # Find longest review length\n",
    "for d in data:\n",
    "    lens.append(len(d['review/text']))\n",
    "maxl = max(lens)\n",
    "\n",
    "def feature2(datum): # One hot encoding\n",
    "  feat = [0] * 13\n",
    "  if datum['beer/style'] in categories:\n",
    "        feat[catID[datum['beer/style']]] = 1\n",
    "  feat2 = [len(datum['review/text']) / maxl]\n",
    "  feat3 = [datum['review/appearance'], datum['review/palate'], datum['review/taste'], datum['review/overall'], datum['review/aroma']]\n",
    "  return [1] + feat + feat2 + feat3\n",
    "\n",
    "X_train = [feature2(d) for d in training] # Create training and testing sets\n",
    "y_train = [d['beer/ABV'] > 7.0 for d in training]\n",
    "xtest = [feature2(d) for d in testing]\n",
    "ytest = [d['beer/ABV'] > 7.0 for d in testing]\n",
    "\n",
    "mod = linear_model.LogisticRegression(C=10.0, class_weight='balanced', max_iter = 999999) # Fit classifier\n",
    "mod.fit(X_train, y_train)\n",
    "pred = mod.predict(xtest)\n",
    "\n",
    "TP_ = numpy.logical_and(pred, ytest) # Calculate accuracy\n",
    "FP_ = numpy.logical_and(pred, numpy.logical_not(ytest))\n",
    "TN_ = numpy.logical_and(numpy.logical_not(pred), numpy.logical_not(ytest))\n",
    "FN_ = numpy.logical_and(numpy.logical_not(pred), ytest)\n",
    "TP = sum(TP_)\n",
    "FP = sum(FP_)\n",
    "TN = sum(TN_)\n",
    "FN = sum(FN_)\n",
    "\n",
    "print((TP + TN) / len(testing))\n",
    "print(((FP/(TP + FN)) + (FN/(TN + FP)))/2)"
   ]
  },
  {
   "cell_type": "markdown",
   "metadata": {},
   "source": [
    "## Question 2\n",
    "accuracy = 0.86276<br>\n",
    "BER = 0.13330288706168414"
   ]
  },
  {
   "cell_type": "code",
   "execution_count": 6,
   "metadata": {},
   "outputs": [
    {
     "name": "stdout",
     "output_type": "stream",
     "text": [
      "[0.3301336941651941, 0.32785433735767616, 0.3043572078939324, 0.19341581393025298]\n",
      "[0.3337960834179654, 0.3317840524381191, 0.3080843281974192, 0.19232086017644762]\n",
      "[0.33148707827115786, 0.329421564674558, 0.3025020717604982, 0.19342996133296436]\n"
     ]
    },
    {
     "data": {
      "image/png": "[encoded data removed]",
      "text/plain": [
       "<Figure size 432x288 with 1 Axes>"
      ]
     },
     "metadata": {
      "needs_background": "light"
     },
     "output_type": "display_data"
    }
   ],
   "source": [
    "# QUESTION THREE\n",
    "l2 = len(testing) // 2 # Make validation data\n",
    "test_2 = testing[0:l2]\n",
    "valid_2 = testing[l2:]\n",
    "\n",
    "xval = [feature2(d) for d in valid_2] # Create validation and testing sets\n",
    "yval = [d['beer/ABV'] > 7.0 for d in valid_2]\n",
    "xtest = [feature2(d) for d in test_2]\n",
    "ytest = [d['beer/ABV'] > 7.0 for d in test_2]\n",
    "\n",
    "def makerates(pred, ytest):\n",
    "    TP_ = numpy.logical_and(pred, ytest) # Calculate accuracy\n",
    "    FP_ = numpy.logical_and(pred, numpy.logical_not(ytest))\n",
    "    TN_ = numpy.logical_and(numpy.logical_not(pred), numpy.logical_not(ytest))\n",
    "    FN_ = numpy.logical_and(numpy.logical_not(pred), ytest)\n",
    "    TP = sum(TP_)\n",
    "    FP = sum(FP_)\n",
    "    TN = sum(TN_)\n",
    "    FN = sum(FN_)\n",
    "    return ((FP/(TP + FN)) + (FN/(TN + FP)))/2\n",
    "trainr = []\n",
    "validr = []\n",
    "testr = []\n",
    "mod = linear_model.LogisticRegression(C=10.0**(-6), class_weight='balanced', max_iter = 999999) # Fit classifier\n",
    "mod.fit(X_train, y_train)\n",
    "pred = mod.predict(X_train)\n",
    "trainr.append(makerates(pred, y_train))\n",
    "pred = mod.predict(xval)\n",
    "validr.append(makerates(pred, yval))\n",
    "pred = mod.predict(xtest)\n",
    "testr.append(makerates(pred, ytest))\n",
    "\n",
    "mod = linear_model.LogisticRegression(C=10.0**(-5), class_weight='balanced', max_iter = 999999) # Fit classifier\n",
    "mod.fit(X_train, y_train)\n",
    "pred = mod.predict(X_train)\n",
    "trainr.append(makerates(pred, y_train))\n",
    "pred = mod.predict(xval)\n",
    "validr.append(makerates(pred, yval))\n",
    "pred = mod.predict(xtest)\n",
    "testr.append(makerates(pred, ytest))\n",
    "\n",
    "mod = linear_model.LogisticRegression(C=10.0**(-4), class_weight='balanced', max_iter = 999999) # Fit classifier\n",
    "mod.fit(X_train, y_train)\n",
    "pred = mod.predict(X_train)\n",
    "trainr.append(makerates(pred, y_train))\n",
    "pred = mod.predict(xval)\n",
    "validr.append(makerates(pred, yval))\n",
    "pred = mod.predict(xtest)\n",
    "testr.append(makerates(pred, ytest))\n",
    "\n",
    "mod = linear_model.LogisticRegression(C=10.0**(-3), class_weight='balanced', max_iter = 999999) # Fit classifier\n",
    "mod.fit(X_train, y_train)\n",
    "pred = mod.predict(X_train)\n",
    "trainr.append(makerates(pred, y_train))\n",
    "pred = mod.predict(xval)\n",
    "validr.append(makerates(pred, yval))\n",
    "pred = mod.predict(xtest)\n",
    "testr.append(makerates(pred, ytest))\n",
    "\n",
    "print(trainr)\n",
    "print(validr)\n",
    "print(testr)\n",
    "\n",
    "x = [10.0E-6, 10.0E-5, 10.0E-4, 10.0E-4]\n",
    "plt.plot(x, trainr, label = \"training\")\n",
    "plt.plot(x, validr, label = \"validation\")\n",
    "plt.plot(x, testr, label = \"testing\")\n",
    "plt.xlabel(\"C value\")\n",
    "plt.ylabel(\"BER\")\n",
    "plt.legend() # Display legend\n",
    "plt.show()"
   ]
  },
  {
   "cell_type": "markdown",
   "metadata": {},
   "source": [
    "## Question 3\n",
    "10^-6: training BER = 0.3301336941651941, validation BER = 0.3337960834179654, testing BER = 0.33148707827115786<br>\n",
    "10^-5: training BER = 0.32785433735767616, validation BER = 0.3317840524381191, testing BER = 0.329421564674558<br>\n",
    "10^-4: training BER = 0.3043572078939324, validation BER = 0.3080843281974192, testing BER = 0.3025020717604982<br>\n",
    "10^-3: training BER = 0.19341581393025298, validation BER = 0.19232086017644762, testing BER = 0.19342996133296436<br>\n",
    "I would select the classifer trained with C = 10^-3 because it has the lowest BER for training, validation, and testing data."
   ]
  },
  {
   "cell_type": "code",
   "execution_count": 7,
   "metadata": {},
   "outputs": [],
   "source": [
    "# QUESTION 4\n",
    "def feature3(datum): # without length\n",
    "  feat = [0] * 13\n",
    "  if datum['beer/style'] in categories:\n",
    "    feat[catID[datum['beer/style']]] = 1\n",
    "  feat3 = [datum['review/appearance'], datum['review/palate'], datum['review/taste'], datum['review/overall'], datum['review/aroma']]\n",
    "  return [1] + feat + feat3\n",
    "def feature4(datum): # without ratings\n",
    "  feat = [0] * 13\n",
    "  if datum['beer/style'] in categories:\n",
    "    feat[catID[datum['beer/style']]] = 1\n",
    "  feat2 = [len(datum['review/text']) / maxl]\n",
    "  return [1] + feat + feat2\n",
    "def feature5(datum): # without style\n",
    "  feat2 = [len(datum['review/text']) / maxl]\n",
    "  feat3 = [datum['review/appearance'], datum['review/palate'], datum['review/taste'], datum['review/overall'], datum['review/aroma']]\n",
    "  return [1] + feat2 + feat3"
   ]
  },
  {
   "cell_type": "code",
   "execution_count": 8,
   "metadata": {},
   "outputs": [
    {
     "name": "stdout",
     "output_type": "stream",
     "text": [
      "[0.33020237416209874, 0.3279033637054759, 0.3045042869373316, 0.19387489022959226]\n",
      "[0.3339282047561678, 0.33176509355272277, 0.3083204279755155, 0.19302915951073643]\n",
      "[0.3316373638136887, 0.3294319504698338, 0.30292971459320434, 0.19423331802199753]\n"
     ]
    }
   ],
   "source": [
    "X_train1 = [feature3(d) for d in training] # without length\n",
    "xtest1 = [feature3(d) for d in test_2]\n",
    "ytest1 = [d['beer/ABV'] > 7.0 for d in test_2]\n",
    "xval1 = [feature3(d) for d in valid_2] # Create validation and testing sets\n",
    "yval1 = [d['beer/ABV'] > 7.0 for d in valid_2]\n",
    "\n",
    "def makerates(pred, ytest):\n",
    "    TP_ = numpy.logical_and(pred, ytest) # Calculate accuracy\n",
    "    FP_ = numpy.logical_and(pred, numpy.logical_not(ytest))\n",
    "    TN_ = numpy.logical_and(numpy.logical_not(pred), numpy.logical_not(ytest))\n",
    "    FN_ = numpy.logical_and(numpy.logical_not(pred), ytest)\n",
    "    TP = sum(TP_)\n",
    "    FP = sum(FP_)\n",
    "    TN = sum(TN_)\n",
    "    FN = sum(FN_)\n",
    "    return ((FP/(TP + FN)) + (FN/(TN + FP)))/2\n",
    "trainr = []\n",
    "validr = []\n",
    "testr = []\n",
    "mod = linear_model.LogisticRegression(C=10.0**(-6), class_weight='balanced', max_iter = 999999) # Fit classifier\n",
    "mod.fit(X_train1, y_train)\n",
    "pred = mod.predict(X_train1)\n",
    "trainr.append(makerates(pred, y_train))\n",
    "pred = mod.predict(xval1)\n",
    "validr.append(makerates(pred, yval1))\n",
    "pred = mod.predict(xtest1)\n",
    "testr.append(makerates(pred, ytest1))\n",
    "\n",
    "mod = linear_model.LogisticRegression(C=10.0**(-5), class_weight='balanced', max_iter = 999999) # Fit classifier\n",
    "mod.fit(X_train1, y_train)\n",
    "pred = mod.predict(X_train1)\n",
    "trainr.append(makerates(pred, y_train))\n",
    "pred = mod.predict(xval1)\n",
    "validr.append(makerates(pred, yval1))\n",
    "pred = mod.predict(xtest1)\n",
    "testr.append(makerates(pred, ytest1))\n",
    "\n",
    "mod = linear_model.LogisticRegression(C=10.0**(-4), class_weight='balanced', max_iter = 999999) # Fit classifier\n",
    "mod.fit(X_train1, y_train)\n",
    "pred = mod.predict(X_train1)\n",
    "trainr.append(makerates(pred, y_train))\n",
    "pred = mod.predict(xval1)\n",
    "validr.append(makerates(pred, yval1))\n",
    "pred = mod.predict(xtest1)\n",
    "testr.append(makerates(pred, ytest1))\n",
    "\n",
    "mod = linear_model.LogisticRegression(C=10.0**(-3), class_weight='balanced', max_iter = 999999) # Fit classifier\n",
    "mod.fit(X_train1, y_train)\n",
    "pred = mod.predict(X_train1)\n",
    "trainr.append(makerates(pred, y_train))\n",
    "pred = mod.predict(xval1)\n",
    "validr.append(makerates(pred, yval1))\n",
    "pred = mod.predict(xtest1)\n",
    "testr.append(makerates(pred, ytest1))\n",
    "\n",
    "print(trainr)\n",
    "print(validr)\n",
    "print(testr)"
   ]
  },
  {
   "cell_type": "code",
   "execution_count": 15,
   "metadata": {},
   "outputs": [
    {
     "name": "stdout",
     "output_type": "stream",
     "text": [
      "[0.2990752277666188, 0.14608789015364793, 0.14236016332147017, 0.14236016332147017]\n",
      "[0.2852062841049604, 0.14954452819208094, 0.14644738360830695, 0.14644738360830695]\n",
      "[0.2955701446844112, 0.14512819824652815, 0.14046934642807307, 0.14046934642807307]\n"
     ]
    }
   ],
   "source": [
    "X_train1 = [feature4(d) for d in training] # without ratings\n",
    "xtest1 = [feature4(d) for d in test_2]\n",
    "ytest1 = [d['beer/ABV'] > 7.0 for d in test_2]\n",
    "xval1 = [feature4(d) for d in valid_2] # Create validation and testing sets\n",
    "yval1 = [d['beer/ABV'] > 7.0 for d in valid_2]\n",
    "\n",
    "def makerates(pred, ytest):\n",
    "    TP_ = numpy.logical_and(pred, ytest) # Calculate accuracy\n",
    "    FP_ = numpy.logical_and(pred, numpy.logical_not(ytest))\n",
    "    TN_ = numpy.logical_and(numpy.logical_not(pred), numpy.logical_not(ytest))\n",
    "    FN_ = numpy.logical_and(numpy.logical_not(pred), ytest)\n",
    "    TP = sum(TP_)\n",
    "    FP = sum(FP_)\n",
    "    TN = sum(TN_)\n",
    "    FN = sum(FN_)\n",
    "    return ((FP/(TP + FN)) + (FN/(TN + FP)))/2\n",
    "trainr = []\n",
    "validr = []\n",
    "testr = []\n",
    "mod = linear_model.LogisticRegression(C=10.0**(-6), class_weight='balanced', max_iter = 999999) # Fit classifier\n",
    "mod.fit(X_train1, y_train)\n",
    "pred = mod.predict(X_train1)\n",
    "trainr.append(makerates(pred, y_train))\n",
    "pred = mod.predict(xval1)\n",
    "validr.append(makerates(pred, yval1))\n",
    "pred = mod.predict(xtest1)\n",
    "testr.append(makerates(pred, ytest1))\n",
    "\n",
    "mod = linear_model.LogisticRegression(C=10.0**(-5), class_weight='balanced', max_iter = 999999) # Fit classifier\n",
    "mod.fit(X_train1, y_train)\n",
    "pred = mod.predict(X_train1)\n",
    "trainr.append(makerates(pred, y_train))\n",
    "pred = mod.predict(xval1)\n",
    "validr.append(makerates(pred, yval1))\n",
    "pred = mod.predict(xtest1)\n",
    "testr.append(makerates(pred, ytest1))\n",
    "\n",
    "mod = linear_model.LogisticRegression(C=10.0**(-4), class_weight='balanced', max_iter = 999999) # Fit classifier\n",
    "mod.fit(X_train1, y_train)\n",
    "pred = mod.predict(X_train1)\n",
    "trainr.append(makerates(pred, y_train))\n",
    "pred = mod.predict(xval1)\n",
    "validr.append(makerates(pred, yval1))\n",
    "pred = mod.predict(xtest1)\n",
    "testr.append(makerates(pred, ytest1))\n",
    "\n",
    "mod = linear_model.LogisticRegression(C=10.0**(-3), class_weight='balanced', max_iter = 999999) # Fit classifier\n",
    "mod.fit(X_train1, y_train)\n",
    "pred = mod.predict(X_train1)\n",
    "trainr.append(makerates(pred, y_train))\n",
    "pred = mod.predict(xval1)\n",
    "validr.append(makerates(pred, yval1))\n",
    "pred = mod.predict(xtest1)\n",
    "testr.append(makerates(pred, ytest1))\n",
    "\n",
    "print(trainr)\n",
    "print(validr)\n",
    "print(testr)"
   ]
  },
  {
   "cell_type": "code",
   "execution_count": 10,
   "metadata": {},
   "outputs": [
    {
     "name": "stdout",
     "output_type": "stream",
     "text": [
      "[0.3512978592334295, 0.35147431097552356, 0.3465803174955163, 0.3290331252041169]\n",
      "[0.3526390318904637, 0.35232739200056806, 0.34803908736447065, 0.3326496617110589]\n",
      "[0.3522375116210365, 0.3525460262970393, 0.34789144190931637, 0.3320350575090277]\n"
     ]
    }
   ],
   "source": [
    "X_train1 = [feature5(d) for d in training] # without style\n",
    "xtest1 = [feature5(d) for d in test_2]\n",
    "ytest1 = [d['beer/ABV'] > 7.0 for d in test_2]\n",
    "xval1 = [feature5(d) for d in valid_2] # Create validation and testing sets\n",
    "yval1 = [d['beer/ABV'] > 7.0 for d in valid_2]\n",
    "\n",
    "def makerates(pred, ytest):\n",
    "    TP_ = numpy.logical_and(pred, ytest) # Calculate accuracy\n",
    "    FP_ = numpy.logical_and(pred, numpy.logical_not(ytest))\n",
    "    TN_ = numpy.logical_and(numpy.logical_not(pred), numpy.logical_not(ytest))\n",
    "    FN_ = numpy.logical_and(numpy.logical_not(pred), ytest)\n",
    "    TP = sum(TP_)\n",
    "    FP = sum(FP_)\n",
    "    TN = sum(TN_)\n",
    "    FN = sum(FN_)\n",
    "    return ((FP/(TP + FN)) + (FN/(TN + FP)))/2\n",
    "trainr = []\n",
    "validr = []\n",
    "testr = []\n",
    "mod = linear_model.LogisticRegression(C=10.0**(-6), class_weight='balanced', max_iter = 999999) # Fit classifier\n",
    "mod.fit(X_train1, y_train)\n",
    "pred = mod.predict(X_train1)\n",
    "trainr.append(makerates(pred, y_train))\n",
    "pred = mod.predict(xval1)\n",
    "validr.append(makerates(pred, yval1))\n",
    "pred = mod.predict(xtest1)\n",
    "testr.append(makerates(pred, ytest1))\n",
    "\n",
    "mod = linear_model.LogisticRegression(C=10.0**(-5), class_weight='balanced', max_iter = 999999) # Fit classifier\n",
    "mod.fit(X_train1, y_train)\n",
    "pred = mod.predict(X_train1)\n",
    "trainr.append(makerates(pred, y_train))\n",
    "pred = mod.predict(xval1)\n",
    "validr.append(makerates(pred, yval1))\n",
    "pred = mod.predict(xtest1)\n",
    "testr.append(makerates(pred, ytest1))\n",
    "\n",
    "mod = linear_model.LogisticRegression(C=10.0**(-4), class_weight='balanced', max_iter = 999999) # Fit classifier\n",
    "mod.fit(X_train1, y_train)\n",
    "pred = mod.predict(X_train1)\n",
    "trainr.append(makerates(pred, y_train))\n",
    "pred = mod.predict(xval1)\n",
    "validr.append(makerates(pred, yval1))\n",
    "pred = mod.predict(xtest1)\n",
    "testr.append(makerates(pred, ytest1))\n",
    "\n",
    "mod = linear_model.LogisticRegression(C=10.0**(-3), class_weight='balanced', max_iter = 999999) # Fit classifier\n",
    "mod.fit(X_train1, y_train)\n",
    "pred = mod.predict(X_train1)\n",
    "trainr.append(makerates(pred, y_train))\n",
    "pred = mod.predict(xval1)\n",
    "validr.append(makerates(pred, yval1))\n",
    "pred = mod.predict(xtest1)\n",
    "testr.append(makerates(pred, ytest1))\n",
    "\n",
    "print(trainr)\n",
    "print(validr)\n",
    "print(testr)"
   ]
  },
  {
   "cell_type": "markdown",
   "metadata": {},
   "source": [
    "## Question 4\n",
    "without review length: <br>\n",
    "10^-6: training BER = 0.33020237416209874, validation BER = 0.3339282047561678, testing BER = 0.3316373638136887<br>\n",
    "10^-5: training BER = 0.3279033637054759, validation BER = 0.33176509355272277, testing BER = 0.3294319504698338<br>\n",
    "10^-4: training BER = 0.3045042869373316, validation BER = 0.3083204279755155, testing BER = 0.30292971459320434<br>\n",
    "10^-3: training BER = 0.19387489022959226, validation BER = 0.19302915951073643, testing BER = 0.19423331802199753<br>\n",
    "without vector of five ratings: <br>\n",
    "10^-6: training BER = 0.2990752277666188, validation BER = 0.2852062841049604, testing BER = 0.2955701446844112<br>\n",
    "10^-5: training BER = 0.14608789015364793, validation BER = 0.14954452819208094, testing BER = 0.14512819824652815<br>\n",
    "10^-4: training BER = 0.14236016332147017, validation BER = 0.14644738360830695, testing BER = 0.14046934642807307<br>\n",
    "10^-3: training BER = 0.14236016332147017, validation BER = 0.14644738360830695, testing BER = 0.14046934642807307<br>\n",
    "without beer style: <br>\n",
    "10^-6: training BER = 0.3512978592334295, validation BER = 0.3526390318904637, testing BER = 0.3522375116210365<br>\n",
    "10^-5: training BER = 0.35147431097552356, validation BER = 0.35232739200056806, testing BER = 0.3525460262970393<br>\n",
    "10^-4: training BER = 0.3465803174955163, validation BER = 0.34803908736447065, testing BER = 0.34789144190931637<br>\n",
    "10^-3: training BER = 0.3290331252041169, validation BER = 0.3326496617110589, testing BER = 0.3320350575090277<br>"
   ]
  },
  {
   "cell_type": "code",
   "execution_count": 11,
   "metadata": {},
   "outputs": [
    {
     "data": {
      "image/png": "[encoded data removed]",
      "text/plain": [
       "<Figure size 432x288 with 1 Axes>"
      ]
     },
     "metadata": {},
     "output_type": "display_data"
    },
    {
     "data": {
      "text/plain": [
       "<Figure size 432x288 with 0 Axes>"
      ]
     },
     "metadata": {},
     "output_type": "display_data"
    }
   ],
   "source": [
    "edges = set()\n",
    "nodes = set()\n",
    "f = open('egonet.txt','r')\n",
    "for edge in f:\n",
    "  x,y = edge.split()\n",
    "  x,y = int(x),int(y)\n",
    "  edges.add((x,y))\n",
    "  edges.add((y,x))\n",
    "  nodes.add(x)\n",
    "  nodes.add(y)\n",
    "\n",
    "G = nx.Graph()\n",
    "for e in edges:\n",
    "  G.add_edge(e[0],e[1])\n",
    "nx.draw(G)\n",
    "plt.show()\n",
    "plt.clf()"
   ]
  },
  {
   "cell_type": "code",
   "execution_count": 12,
   "metadata": {},
   "outputs": [
    {
     "data": {
      "text/plain": [
       "[40, 12, 9]"
      ]
     },
     "execution_count": 12,
     "metadata": {},
     "output_type": "execute_result"
    }
   ],
   "source": [
    "# QUESTION 6\n",
    "[len(c) for c in sorted(nx.connected_components(G), key=len, reverse=True)]"
   ]
  },
  {
   "cell_type": "markdown",
   "metadata": {},
   "source": [
    "## QUESTION 6\n",
    "There are three connected components in the graph. There are 40 nodes in the largest connected component."
   ]
  },
  {
   "cell_type": "code",
   "execution_count": 13,
   "metadata": {},
   "outputs": [
    {
     "name": "stdout",
     "output_type": "stream",
     "text": [
      "484\n",
      "396\n",
      "0.42240587695133147\n"
     ]
    }
   ],
   "source": [
    "# QUESTION 7\n",
    "sets = []\n",
    "for c in sorted(nx.connected_components(G), key=len, reverse=True):\n",
    "    sets.append(c)\n",
    "cc = sorted(sets[0])\n",
    "l = len(cc) // 2\n",
    "c1 = cc[0:l]\n",
    "c2 = cc[l:]\n",
    "ed1 = 0\n",
    "ed2 = 0\n",
    "count = 0\n",
    "myedges = []\n",
    "for e in edges:\n",
    "    if e[0] in cc and e[1] in cc:\n",
    "        myedges.append(e)\n",
    "for e in myedges:\n",
    "    if e[0] in c1 and e[1] in c1:\n",
    "        ed1 += 2\n",
    "    elif e[0] in c2 and e[1] in c2:\n",
    "        ed2 += 2\n",
    "    else:\n",
    "        count+= 1\n",
    "        ed1 += 1\n",
    "        ed2 += 1\n",
    "print(ed1)\n",
    "print(ed2)\n",
    "print(0.5 * ( (count/ed1) + (count/ed2) ))"
   ]
  },
  {
   "cell_type": "markdown",
   "metadata": {},
   "source": [
    "## Question 7\n",
    "cost: 0.42240587695133147"
   ]
  },
  {
   "cell_type": "code",
   "execution_count": 14,
   "metadata": {},
   "outputs": [
    {
     "name": "stdout",
     "output_type": "stream",
     "text": [
      "0.09817045961624274\n",
      "[697, 703, 708, 713, 719, 745, 747, 753, 769, 772, 774, 798, 800, 803, 805, 810, 811, 819, 823, 828, 830, 840, 856, 869, 880, 890]\n",
      "[729, 804, 825, 861, 863, 864, 876, 878, 882, 884, 886, 888, 889, 893]\n"
     ]
    }
   ],
   "source": [
    "# QUESTION 8\n",
    "def checkcost(t1, t2):\n",
    "    count = 0\n",
    "    ed1 = 0\n",
    "    ed2 = 0\n",
    "    for e in myedges:\n",
    "        if e[0] in t1 and e[1] in t1:\n",
    "            ed1 += 2\n",
    "        elif e[0] in t2 and e[1] in t2:\n",
    "            ed2 += 2\n",
    "        else:\n",
    "            count+= 1\n",
    "            ed1 += 1\n",
    "            ed2 += 1\n",
    "    return (0.5 * ( (count/ed1) + (count/ed2) ))\n",
    "curr = 0.42240587695133147\n",
    "vals = {}\n",
    "vals2 = {}\n",
    "while True:\n",
    "    for node in c1:\n",
    "        t1 = c1.copy()\n",
    "        t2 = c2.copy()\n",
    "        t2.append(node)\n",
    "        t1.remove(node)\n",
    "        tmp = checkcost(t1, t2)\n",
    "        if (tmp < curr):\n",
    "            vals[node] = tmp\n",
    "    mmin = curr\n",
    "    minnode = None\n",
    "    for key, value in vals.items():\n",
    "        if value < mmin:\n",
    "            mmin = value\n",
    "            minnode = key\n",
    "    for node in c2:\n",
    "        t1 = c1.copy()\n",
    "        t2 = c2.copy()\n",
    "        t1.append(node)\n",
    "        t2.remove(node)\n",
    "        tmp = checkcost(t1, t2)\n",
    "        if (tmp < curr):\n",
    "            vals2[node] = tmp\n",
    "    mmin2 = curr\n",
    "    minnode2 = None\n",
    "    for key, value in vals2.items():\n",
    "        if value < mmin2:\n",
    "            mmin2 = value\n",
    "            minnode2 = key\n",
    "    if len(vals) == 0 and len(vals2) == 0:\n",
    "        break\n",
    "    if (mmin <= mmin2):\n",
    "        c1.remove(minnode)\n",
    "        c2.append(minnode)\n",
    "    else:\n",
    "        c1.append(minnode2)\n",
    "        c2.remove(minnode2)\n",
    "    curr = checkcost(c1, c2)\n",
    "    vals = {}\n",
    "    vals2 = {}\n",
    "print(curr)\n",
    "c1.sort()\n",
    "c2.sort()\n",
    "print(c1)\n",
    "print(c2)"
   ]
  },
  {
   "cell_type": "markdown",
   "metadata": {},
   "source": [
    "## Question 8\n",
    "cost: 0.09817045961624274<br>\n",
    "[697, 703, 708, 713, 719, 745, 747, 753, 769, 772, 774, 798, 800, 803, 805, 810, 811, 819, 823, 828, 830, 840, 856, 869, 880, 890]<br>\n",
    "[729, 804, 825, 861, 863, 864, 876, 878, 882, 884, 886, 888, 889, 893]"
   ]
  },
  {
   "cell_type": "code",
   "execution_count": null,
   "metadata": {},
   "outputs": [],
   "source": []
  }
 ],
 "metadata": {
  "kernelspec": {
   "display_name": "Python 3",
   "language": "python",
   "name": "python3"
  },
  "language_info": {
   "codemirror_mode": {
    "name": "ipython",
    "version": 3
   },
   "file_extension": ".py",
   "mimetype": "text/x-python",
   "name": "python",
   "nbconvert_exporter": "python",
   "pygments_lexer": "ipython3",
   "version": "3.7.6"
  }
 },
 "nbformat": 4,
 "nbformat_minor": 4
}
