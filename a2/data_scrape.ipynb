{
 "cells": [
  {
   "cell_type": "code",
   "execution_count": 3,
   "metadata": {},
   "outputs": [],
   "source": [
    "from requests import get\n",
    "from bs4 import BeautifulSoup\n",
    "import pandas as pd\n",
    "from time import sleep\n",
    "from random import randint\n",
    "import numpy as np\n",
    "import re\n",
    "import lxml\n",
    "import string\n",
    "%matplotlib inline"
   ]
  },
  {
   "cell_type": "code",
   "execution_count": 8,
   "metadata": {},
   "outputs": [
    {
     "name": "stdout",
     "output_type": "stream",
     "text": [
      "done\n"
     ]
    }
   ],
   "source": [
    "df = open(\"moviesdircast.txt\", 'a')\n",
    "df.write(\"title,date,runtime,genre,rating,description,votes,gross\\n\")\n",
    "\n",
    "pages = np.arange(1, 7001, 250)\n",
    "pages = map(str, pages)\n",
    "years = [str(i) for i in range(2008,2009)]\n",
    "headers = {\"Accept-Language\": \"en-US, en;q=0.5\"}\n",
    "punctuation = set(string.punctuation)\n",
    "\n",
    "for year in years:\n",
    "    sleep(randint(300,480))\n",
    "    for page in pages:\n",
    "        response = get('https://www.imdb.com/search/title/?title_type=feature&release_date=' + year +\n",
    "        '&adult=include&count=250&start=' + page + '&ref_=adv_nxt', headers = headers)\n",
    "        sleep(randint(8,15))\n",
    "        if response.status_code != 200:\n",
    "            print('uh oh, not 200')\n",
    "        page_html = BeautifulSoup(response.text, 'html.parser')\n",
    "        \n",
    "        containers = page_html.find_all('div', class_ = 'lister-item mode-advanced')\n",
    "        for container in containers:\n",
    "            firstline = container.find(\"h3\", class_=\"lister-item-header\")\n",
    "            title = firstline.find(\"a\").text.replace(',', '')\n",
    "            date = re.sub(r\"[()]\",\"\", firstline.find_all(\"span\")[-1].text).replace(',', '')\n",
    "            \n",
    "            try:\n",
    "                runtime = container.find(\"span\", class_=\"runtime\").text[:-4].replace(',', '')\n",
    "            except:\n",
    "                runtime = \"NaN\"\n",
    "            try:\n",
    "                genre = container.find(\"span\", class_=\"genre\").text.rstrip().replace(\"\\n\",\"\").split(\",\")\n",
    "                genrestr = \"\"\n",
    "                for i in range(len(genre)):\n",
    "                    genrestr += genre[i].strip()\n",
    "                    if i == (len(genre) - 1):\n",
    "                        continue\n",
    "                    genrestr += '~'\n",
    "                genrestr = genrestr.replace(',', '')\n",
    "            except:\n",
    "                genrestr = \"NaN\"\n",
    "            try:\n",
    "                rating = container.find(\"strong\").text.replace(',', '')\n",
    "            except:\n",
    "                rating = \"NaN\"\n",
    "            desc = container.find_all(\"p\", class_=\"text-muted\")[-1].text.lstrip()\n",
    "            desc = ''.join([c for c in desc.lower() if not c in punctuation])\n",
    "            desc = desc.replace('\\n','')\n",
    "\n",
    "            nums = container.find_all(\"span\", attrs={\"name\": \"nv\"})\n",
    "            \n",
    "            if len(nums) == 2:\n",
    "                votes = nums[0].text.replace(',', '')\n",
    "                gross = nums[1].text.replace(',', '')\n",
    "            elif len(nums) == 1:\n",
    "                votes = nums[0].text.replace(',', '')\n",
    "                gross = \"NaN\"\n",
    "            else:\n",
    "                votes = \"NaN\"\n",
    "                gross = \"NaN\"\n",
    "            movieCast = container.find(\"p\", class_=\"\")\n",
    "            try:\n",
    "                casts = movieCast.text.replace(\"\\n\",\"\").split('|')\n",
    "                casts = [x.strip() for x in casts]\n",
    "                casts = [casts[i].replace(j, \"\") for i,j in enumerate([\"Director:\", \"Stars:\"])]\n",
    "                movieDirector = casts[0]\n",
    "                movieStars = [x.strip() for x in casts[1].split(\",\")]\n",
    "            except:\n",
    "                #casts = movieCast.text.replace(\"\\n\",\"\").strip()\n",
    "                movieDirector = \"NaN\"\n",
    "                movieStars = \"NaN\"\n",
    "            movieDirector.replace(',', '~')\n",
    "            stars = \"\"\n",
    "            for i in range(len(movieStars)):\n",
    "                stars += movieStars[i].replace(\",\", '')\n",
    "                if i != len(movieStars) - 1:\n",
    "                    stars += \"~\"\n",
    "            try:\n",
    "                meta = container.find(\"span\", class_=\"metascore unfavorable\").text.rstrip().replace(\",\",'')\n",
    "            except:\n",
    "                meta = \"NaN\"\n",
    "            df.write(title + \",\" + date + \",\" + runtime + \",\" + genrestr + \",\" + rating + \",\" + desc + \",\" + votes + \",\" + gross + \",\" + movieDirector + \",\" + stars + \",\" + meta + '\\n')\n",
    "df.close()\n",
    "print(\"done\")       \n",
    "            \n",
    "            "
   ]
  },
  {
   "cell_type": "code",
   "execution_count": 4,
   "metadata": {},
   "outputs": [
    {
     "data": {
      "text/plain": [
       "nan"
      ]
     },
     "execution_count": 4,
     "metadata": {},
     "output_type": "execute_result"
    }
   ],
   "source": [
    "movieDirector"
   ]
  },
  {
   "cell_type": "code",
   "execution_count": null,
   "metadata": {},
   "outputs": [],
   "source": []
  }
 ],
 "metadata": {
  "kernelspec": {
   "display_name": "Python 3",
   "language": "python",
   "name": "python3"
  },
  "language_info": {
   "codemirror_mode": {
    "name": "ipython",
    "version": 3
   },
   "file_extension": ".py",
   "mimetype": "text/x-python",
   "name": "python",
   "nbconvert_exporter": "python",
   "pygments_lexer": "ipython3",
   "version": "3.7.6"
  }
 },
 "nbformat": 4,
 "nbformat_minor": 4
}
